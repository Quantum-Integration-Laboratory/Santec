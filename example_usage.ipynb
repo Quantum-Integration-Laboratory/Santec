{
 "cells": [
  {
   "cell_type": "code",
   "execution_count": 12,
   "id": "bc1a62de-1465-4e97-acc1-76995df72df7",
   "metadata": {},
   "outputs": [],
   "source": [
    "from qil_santec import WSL"
   ]
  },
  {
   "cell_type": "code",
   "execution_count": 13,
   "id": "1e9f787a",
   "metadata": {},
   "outputs": [
    {
     "name": "stdout",
     "output_type": "stream",
     "text": [
      "CONNECTION SUCCESSFUL, CONNECTED TO SANTEC,WSL-100,16120001,0002.0007\n",
      "+7.000000E+00\n",
      "+1.530000E-06\n",
      "1\n",
      "\n"
     ]
    }
   ],
   "source": [
    "laser=WSL.WSL_USB()\n",
    "\n",
    "\n",
    "print(laser.power(7))\n",
    "\n",
    "print(laser.wavelength(1530.00))\n",
    "#print(laser.frequency(195.124))\n",
    "#print(laser.instrument.write(\"WAV 1550E-9\"))\n",
    "print(laser.auto(True))\n",
    "print(laser.offset(10))"
   ]
  }
 ],
 "metadata": {
  "interpreter": {
   "hash": "aa8a76d9a9c8de28eeedc62f8e69b4ae28a7825b0f49c2de6e6c826a23820e53"
  },
  "kernelspec": {
   "display_name": "Python 3.9.7 64-bit",
   "language": "python",
   "name": "python3"
  },
  "language_info": {
   "codemirror_mode": {
    "name": "ipython",
    "version": 3
   },
   "file_extension": ".py",
   "mimetype": "text/x-python",
   "name": "python",
   "nbconvert_exporter": "python",
   "pygments_lexer": "ipython3",
   "version": "3.9.7"
  }
 },
 "nbformat": 4,
 "nbformat_minor": 5
}
